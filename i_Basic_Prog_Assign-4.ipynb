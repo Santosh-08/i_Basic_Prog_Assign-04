{
 "cells": [
  {
   "cell_type": "markdown",
   "metadata": {},
   "source": [
    "# Python Program to Find the Factorial of a Number"
   ]
  },
  {
   "cell_type": "code",
   "execution_count": 28,
   "metadata": {},
   "outputs": [
    {
     "name": "stdout",
     "output_type": "stream",
     "text": [
      "Enter a number :3\n",
      "The factorial of the number is : 6\n"
     ]
    }
   ],
   "source": [
    "num = int(input(\"Enter a number :\"))\n",
    "factorial = 1\n",
    "while(num>0):\n",
    "    factorial = factorial*num\n",
    "    num=num-1\n",
    "print(\"The factorial of the number is :\",factorial)"
   ]
  },
  {
   "cell_type": "markdown",
   "metadata": {},
   "source": [
    "# Python Program to Display the multiplication Table"
   ]
  },
  {
   "cell_type": "code",
   "execution_count": 36,
   "metadata": {},
   "outputs": [
    {
     "name": "stdout",
     "output_type": "stream",
     "text": [
      "Enter the no. for the table= 4\n",
      "4 x 1 = 4\n",
      "4 x 2 = 8\n",
      "4 x 3 = 12\n",
      "4 x 4 = 16\n",
      "4 x 5 = 20\n",
      "4 x 6 = 24\n",
      "4 x 7 = 28\n",
      "4 x 8 = 32\n",
      "4 x 9 = 36\n",
      "4 x 10 = 40\n"
     ]
    }
   ],
   "source": [
    "num=int(input(\"Enter the no. for the table= \"))\n",
    "\n",
    "for i in range(1, 11):\n",
    "   print(num, \"x\", i, \"=\",i*num)\n"
   ]
  },
  {
   "cell_type": "markdown",
   "metadata": {},
   "source": [
    "# Python Program to Print the Fibonacci sequence"
   ]
  },
  {
   "cell_type": "code",
   "execution_count": 40,
   "metadata": {},
   "outputs": [
    {
     "name": "stdout",
     "output_type": "stream",
     "text": [
      "Enter the Range Number: 5\n",
      "0\n",
      "1\n",
      "1\n",
      "2\n",
      "3\n"
     ]
    }
   ],
   "source": [
    "num = int(input(\"Enter the Range Number: \"))\n",
    "x = 0\n",
    "y = 1\n",
    "for n in range(0, num):\n",
    "           if(n <= 1):\n",
    "                      i = n\n",
    "           else:\n",
    "                      i = x + y\n",
    "                      x = y\n",
    "                      y = i\n",
    "           print(i)"
   ]
  },
  {
   "cell_type": "markdown",
   "metadata": {},
   "source": [
    "# Python Program to Check Armstrong Number"
   ]
  },
  {
   "cell_type": "code",
   "execution_count": 43,
   "metadata": {},
   "outputs": [
    {
     "name": "stdout",
     "output_type": "stream",
     "text": [
      "Enter a number: 153\n",
      "153 is an Armstrong number\n"
     ]
    }
   ],
   "source": [
    "num = int(input(\"Enter a number: \"))\n",
    "s = 0\n",
    "t = num\n",
    "while t > 0:\n",
    "   digit = t % 10\n",
    "   s += digit ** 3\n",
    "   t //= 10\n",
    "\n",
    "if n == s:\n",
    "   print(n,\"is an Armstrong number\")\n",
    "else:\n",
    "   print(n,\"is not an Armstrong number\")\n"
   ]
  },
  {
   "cell_type": "markdown",
   "metadata": {},
   "source": [
    "# Python Program to Find Armstrong Number in an Interval"
   ]
  },
  {
   "cell_type": "code",
   "execution_count": 51,
   "metadata": {},
   "outputs": [
    {
     "name": "stdout",
     "output_type": "stream",
     "text": [
      "Enter a lower limit number: 100\n",
      "Enter a upper limit number: 1000\n",
      "153 is an Armstrong number\n",
      "370 is an Armstrong number\n",
      "371 is an Armstrong number\n",
      "407 is an Armstrong number\n"
     ]
    }
   ],
   "source": [
    "num1 = int(input(\"Enter a lower limit number: \"))\n",
    "num2 = int(input(\"Enter a upper limit number: \"))\n",
    "\n",
    "for num in range(lower,upper + 1):\n",
    "    s = 0\n",
    "    t = num\n",
    "    while t > 0:\n",
    "        digit = t % 10\n",
    "        s += digit ** 3\n",
    "        t //= 10\n",
    "\n",
    "    if num == s:\n",
    "        print(num,\"is an Armstrong number\")\n",
    "\n"
   ]
  },
  {
   "cell_type": "markdown",
   "metadata": {},
   "source": [
    "# Python Program to Find the Sum of Natural Numbers"
   ]
  },
  {
   "cell_type": "code",
   "execution_count": 11,
   "metadata": {},
   "outputs": [
    {
     "name": "stdout",
     "output_type": "stream",
     "text": [
      "Enter the Number: 5\n",
      "15\n"
     ]
    }
   ],
   "source": [
    "number = int(input(\"Enter the Number: \"))\n",
    "sum = 0\n",
    "for i in range(1, number + 1):\n",
    "        sum = sum + i\n",
    "print(sum)"
   ]
  },
  {
   "cell_type": "code",
   "execution_count": null,
   "metadata": {},
   "outputs": [],
   "source": []
  },
  {
   "cell_type": "code",
   "execution_count": null,
   "metadata": {},
   "outputs": [],
   "source": []
  }
 ],
 "metadata": {
  "kernelspec": {
   "display_name": "Python 3",
   "language": "python",
   "name": "python3"
  }
 },
 "nbformat": 4,
 "nbformat_minor": 4
}
